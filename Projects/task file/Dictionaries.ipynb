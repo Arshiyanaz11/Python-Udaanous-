{
 "cells": [
  {
   "cell_type": "markdown",
   "id": "6a35fa33-b9c2-49f1-b668-0019998d599d",
   "metadata": {},
   "source": [
    "#### Problem 1: \n",
    "**You are given a dictionary representing a student's information. Slice and extract the values for the name and grade keys.**"
   ]
  },
  {
   "cell_type": "code",
   "execution_count": null,
   "id": "1a0867bb-67ca-42c7-8a86-b9dc83df5f51",
   "metadata": {},
   "outputs": [
    {
     "name": "stdout",
     "output_type": "stream",
     "text": [
      "Name: Alice\n",
      "Grade: A\n"
     ]
    }
   ],
   "source": [
    "student_info = {\"name\": \"Alice\", \"age\": 20, \"grade\": \"A\", \"city\": \"New York\"}\n",
    "\n",
    "name = student_info[\"name\"]\n",
    "grade = student_info[\"grade\"]\n",
    "\n",
    "print(\"Name:\", name)\n",
    "print(\"Grade:\", grade)\n"
   ]
  },
  {
   "cell_type": "markdown",
   "id": "beb278cf-ebd1-4836-b45f-2e39142ec316",
   "metadata": {},
   "source": [
    "#### Problem 2: \n",
    "**Add a new key-value pair to the dictionary representing the student's email address (alice@example.com).**"
   ]
  },
  {
   "cell_type": "code",
   "execution_count": null,
   "id": "afc11cc7-f367-4ee9-aa16-44919d1209a1",
   "metadata": {},
   "outputs": [
    {
     "name": "stdout",
     "output_type": "stream",
     "text": [
      "{'name': 'Alice', 'age': 20, 'grade': 'A', 'city': 'New York', 'email': 'alice@example.com'}\n"
     ]
    }
   ],
   "source": [
    "student_info[\"email\"] = \"alice@example.com\"\n",
    "print(student_info)\n"
   ]
  },
  {
   "cell_type": "markdown",
   "id": "75ab11e9-91ad-49b2-aa96-6b3c2414dfe7",
   "metadata": {},
   "source": [
    "#### Problem 3: \n",
    "**Remove the city key-value pair from the dictionary.**"
   ]
  },
  {
   "cell_type": "code",
   "execution_count": 3,
   "id": "842a21fb-b6f4-4084-9471-d39516bd2e7c",
   "metadata": {},
   "outputs": [
    {
     "name": "stdout",
     "output_type": "stream",
     "text": [
      "{'name': 'Alice', 'age': 20, 'grade': 'A', 'email': 'alice@example.com'}\n"
     ]
    }
   ],
   "source": [
    "student_info.pop(\"city\")\n",
    "print(student_info)\n"
   ]
  },
  {
   "cell_type": "markdown",
   "id": "0d060ee0-23e6-4b63-8db4-700e15ecca00",
   "metadata": {},
   "source": [
    "#### Problem 4: \n",
    "**Retrieve and display all the keys, all the values, and all the key-value pairs from the dictionary.**"
   ]
  },
  {
   "cell_type": "code",
   "execution_count": null,
   "id": "3e32ba0c-4592-429d-8f7b-f4a5c7c0d843",
   "metadata": {},
   "outputs": [
    {
     "name": "stdout",
     "output_type": "stream",
     "text": [
      "Keys: ['name', 'age', 'grade', 'email']\n",
      "Values: ['Alice', 20, 'A', 'alice@example.com']\n",
      "Key-Value Pairs: [('name', 'Alice'), ('age', 20), ('grade', 'A'), ('email', 'alice@example.com')]\n"
     ]
    }
   ],
   "source": [
    "keys = student_info.keys()\n",
    "values = student_info.values()\n",
    "items = student_info.items()\n",
    "\n",
    "print(\"Keys:\", list(keys))\n",
    "print(\"Values:\", list(values))\n",
    "print(\"Key-Value Pairs:\", list(items))\n"
   ]
  },
  {
   "cell_type": "code",
   "execution_count": null,
   "id": "f5e336e6-4699-48c4-9d11-056215b06ce0",
   "metadata": {},
   "outputs": [],
   "source": []
  }
 ],
 "metadata": {
  "kernelspec": {
   "display_name": "Python [conda env:base] *",
   "language": "python",
   "name": "conda-base-py"
  },
  "language_info": {
   "codemirror_mode": {
    "name": "ipython",
    "version": 3
   },
   "file_extension": ".py",
   "mimetype": "text/x-python",
   "name": "python",
   "nbconvert_exporter": "python",
   "pygments_lexer": "ipython3",
   "version": "3.12.7"
  }
 },
 "nbformat": 4,
 "nbformat_minor": 5
}
