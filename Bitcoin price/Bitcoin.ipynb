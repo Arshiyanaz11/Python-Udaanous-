{
 "cells": [
  {
   "cell_type": "code",
   "execution_count": 2,
   "id": "16dad15d-360a-4029-97fb-290526550a2b",
   "metadata": {},
   "outputs": [
    {
     "name": "stdout",
     "output_type": "stream",
     "text": [
      "First 5 Rows of the Dataset:\n",
      "           Date     Open     High      Low    Close         Volume  \\\n",
      "0  Jul 31, 2017  2763.24  2889.62  2720.61  2875.34    860,575,000   \n",
      "1  Jul 30, 2017  2724.39  2758.53  2644.85  2757.18    705,943,000   \n",
      "2  Jul 29, 2017  2807.02  2808.76  2692.80  2726.45    803,746,000   \n",
      "3  Jul 28, 2017  2679.73  2897.45  2679.73  2809.01  1,380,100,000   \n",
      "4  Jul 27, 2017  2538.71  2693.32  2529.34  2671.78    789,104,000   \n",
      "\n",
      "       Market Cap  \n",
      "0  45,535,800,000  \n",
      "1  44,890,700,000  \n",
      "2  46,246,700,000  \n",
      "3  44,144,400,000  \n",
      "4  41,816,500,000  \n",
      "\n",
      "Initial Data Information:\n",
      "<class 'pandas.core.frame.DataFrame'>\n",
      "RangeIndex: 1556 entries, 0 to 1555\n",
      "Data columns (total 7 columns):\n",
      " #   Column      Non-Null Count  Dtype  \n",
      "---  ------      --------------  -----  \n",
      " 0   Date        1556 non-null   object \n",
      " 1   Open        1556 non-null   float64\n",
      " 2   High        1556 non-null   float64\n",
      " 3   Low         1556 non-null   float64\n",
      " 4   Close       1556 non-null   float64\n",
      " 5   Volume      1556 non-null   object \n",
      " 6   Market Cap  1556 non-null   object \n",
      "dtypes: float64(4), object(3)\n",
      "memory usage: 85.2+ KB\n",
      "None\n",
      "\n",
      "Data Information After Cleaning:\n",
      "<class 'pandas.core.frame.DataFrame'>\n",
      "RangeIndex: 1556 entries, 0 to 1555\n",
      "Data columns (total 7 columns):\n",
      " #   Column      Non-Null Count  Dtype         \n",
      "---  ------      --------------  -----         \n",
      " 0   Date        1556 non-null   datetime64[ns]\n",
      " 1   Open        1556 non-null   float64       \n",
      " 2   High        1556 non-null   float64       \n",
      " 3   Low         1556 non-null   float64       \n",
      " 4   Close       1556 non-null   float64       \n",
      " 5   Volume      1556 non-null   object        \n",
      " 6   Market Cap  1556 non-null   object        \n",
      "dtypes: datetime64[ns](1), float64(4), object(2)\n",
      "memory usage: 85.2+ KB\n",
      "None\n",
      "\n",
      "Data Preprocessing and Cleaning Completed Successfully!\n"
     ]
    }
   ],
   "source": [
    "import pandas as pd\n",
    "\n",
    "file_path = r\"F:\\INTERNSHIP\\Mysql\\Bitcoin\\bitcoin_price_Training - Training.csv\"\n",
    "df = pd.read_csv(file_path)\n",
    "\n",
    "print(\"First 5 Rows of the Dataset:\")\n",
    "print(df.head())\n",
    "\n",
    "print(\"\\nInitial Data Information:\")\n",
    "print(df.info())\n",
    "\n",
    "df.fillna(df.mean(numeric_only=True), inplace=True)\n",
    "\n",
    "df.fillna(df.mode().iloc[0], inplace=True)\n",
    "\n",
    "df.drop_duplicates(inplace=True)\n",
    "\n",
    "if 'Date' in df.columns:\n",
    "    df['Date'] = pd.to_datetime(df['Date'], errors='coerce')\n",
    "\n",
    "print(\"\\nData Information After Cleaning:\")\n",
    "print(df.info())\n",
    "\n",
    "cleaned_file_path = r\"F:\\INTERNSHIP\\Mysql\\Bitcoin\\cleaned_bitcoin_price_Training.csv\"\n",
    "df.to_csv(cleaned_file_path, index=False)\n",
    "\n",
    "print(\"\\nData Preprocessing and Cleaning Completed Successfully!\")\n"
   ]
  },
  {
   "cell_type": "markdown",
   "id": "d93ce863-5b5c-42bc-b20f-f0c10a65141a",
   "metadata": {},
   "source": [
    "# 1.Analyse change of price in bitcoin overtime"
   ]
  },
  {
   "cell_type": "code",
   "execution_count": 4,
   "id": "cb20f92f-1230-423e-926e-558170040c44",
   "metadata": {},
   "outputs": [
    {
     "name": "stderr",
     "output_type": "stream",
     "text": [
      "C:\\Users\\hp\\AppData\\Local\\Temp\\ipykernel_16424\\3435310100.py:2: SettingWithCopyWarning: \n",
      "A value is trying to be set on a copy of a slice from a DataFrame.\n",
      "Try using .loc[row_indexer,col_indexer] = value instead\n",
      "\n",
      "See the caveats in the documentation: https://pandas.pydata.org/pandas-docs/stable/user_guide/indexing.html#returning-a-view-versus-a-copy\n",
      "  price_change['price_diff'] = price_change['close'] - price_change['open']\n",
      "C:\\Users\\hp\\AppData\\Local\\Temp\\ipykernel_16424\\3435310100.py:3: SettingWithCopyWarning: \n",
      "A value is trying to be set on a copy of a slice from a DataFrame.\n",
      "Try using .loc[row_indexer,col_indexer] = value instead\n",
      "\n",
      "See the caveats in the documentation: https://pandas.pydata.org/pandas-docs/stable/user_guide/indexing.html#returning-a-view-versus-a-copy\n",
      "  price_change['price_change_%'] = (price_change['price_diff'] / price_change['open']) * 100\n",
      "C:\\Users\\hp\\AppData\\Local\\Temp\\ipykernel_16424\\3435310100.py:4: SettingWithCopyWarning: \n",
      "A value is trying to be set on a copy of a slice from a DataFrame\n",
      "\n",
      "See the caveats in the documentation: https://pandas.pydata.org/pandas-docs/stable/user_guide/indexing.html#returning-a-view-versus-a-copy\n",
      "  price_change.sort_values('date', inplace=True)\n"
     ]
    },
    {
     "data": {
      "text/html": [
       "<div>\n",
       "<style scoped>\n",
       "    .dataframe tbody tr th:only-of-type {\n",
       "        vertical-align: middle;\n",
       "    }\n",
       "\n",
       "    .dataframe tbody tr th {\n",
       "        vertical-align: top;\n",
       "    }\n",
       "\n",
       "    .dataframe thead th {\n",
       "        text-align: right;\n",
       "    }\n",
       "</style>\n",
       "<table border=\"1\" class=\"dataframe\">\n",
       "  <thead>\n",
       "    <tr style=\"text-align: right;\">\n",
       "      <th></th>\n",
       "      <th>date</th>\n",
       "      <th>open</th>\n",
       "      <th>close</th>\n",
       "      <th>price_diff</th>\n",
       "      <th>price_change_%</th>\n",
       "    </tr>\n",
       "  </thead>\n",
       "  <tbody>\n",
       "    <tr>\n",
       "      <th>1555</th>\n",
       "      <td>2013-04-28</td>\n",
       "      <td>135.30</td>\n",
       "      <td>134.21</td>\n",
       "      <td>-1.09</td>\n",
       "      <td>-0.805617</td>\n",
       "    </tr>\n",
       "    <tr>\n",
       "      <th>1554</th>\n",
       "      <td>2013-04-29</td>\n",
       "      <td>134.44</td>\n",
       "      <td>144.54</td>\n",
       "      <td>10.10</td>\n",
       "      <td>7.512645</td>\n",
       "    </tr>\n",
       "    <tr>\n",
       "      <th>1553</th>\n",
       "      <td>2013-04-30</td>\n",
       "      <td>144.00</td>\n",
       "      <td>139.00</td>\n",
       "      <td>-5.00</td>\n",
       "      <td>-3.472222</td>\n",
       "    </tr>\n",
       "    <tr>\n",
       "      <th>1552</th>\n",
       "      <td>2013-05-01</td>\n",
       "      <td>139.00</td>\n",
       "      <td>116.99</td>\n",
       "      <td>-22.01</td>\n",
       "      <td>-15.834532</td>\n",
       "    </tr>\n",
       "    <tr>\n",
       "      <th>1551</th>\n",
       "      <td>2013-05-02</td>\n",
       "      <td>116.38</td>\n",
       "      <td>105.21</td>\n",
       "      <td>-11.17</td>\n",
       "      <td>-9.597869</td>\n",
       "    </tr>\n",
       "  </tbody>\n",
       "</table>\n",
       "</div>"
      ],
      "text/plain": [
       "           date    open   close  price_diff  price_change_%\n",
       "1555 2013-04-28  135.30  134.21       -1.09       -0.805617\n",
       "1554 2013-04-29  134.44  144.54       10.10        7.512645\n",
       "1553 2013-04-30  144.00  139.00       -5.00       -3.472222\n",
       "1552 2013-05-01  139.00  116.99      -22.01      -15.834532\n",
       "1551 2013-05-02  116.38  105.21      -11.17       -9.597869"
      ]
     },
     "execution_count": 4,
     "metadata": {},
     "output_type": "execute_result"
    }
   ],
   "source": [
    "price_change = df[['date', 'open', 'close']]\n",
    "price_change['price_diff'] = price_change['close'] - price_change['open']\n",
    "price_change['price_change_%'] = (price_change['price_diff'] / price_change['open']) * 100\n",
    "price_change.sort_values('date', inplace=True)\n",
    "price_change.head()\n"
   ]
  },
  {
   "cell_type": "markdown",
   "id": "d5f1bc8a-dc7b-4bf3-af7b-6d21be3c887d",
   "metadata": {},
   "source": [
    "# 2.Analysing bitcoin prices using candle stick chart"
   ]
  },
  {
   "cell_type": "code",
   "execution_count": 5,
   "id": "b408ae6b-932a-4517-bf22-1c150999ff74",
   "metadata": {},
   "outputs": [
    {
     "name": "stderr",
     "output_type": "stream",
     "text": [
      "C:\\Users\\hp\\AppData\\Local\\Temp\\ipykernel_16424\\4175794832.py:2: SettingWithCopyWarning: \n",
      "A value is trying to be set on a copy of a slice from a DataFrame\n",
      "\n",
      "See the caveats in the documentation: https://pandas.pydata.org/pandas-docs/stable/user_guide/indexing.html#returning-a-view-versus-a-copy\n",
      "  candlestick_data.sort_values('date', inplace=True)\n"
     ]
    },
    {
     "data": {
      "text/html": [
       "<div>\n",
       "<style scoped>\n",
       "    .dataframe tbody tr th:only-of-type {\n",
       "        vertical-align: middle;\n",
       "    }\n",
       "\n",
       "    .dataframe tbody tr th {\n",
       "        vertical-align: top;\n",
       "    }\n",
       "\n",
       "    .dataframe thead th {\n",
       "        text-align: right;\n",
       "    }\n",
       "</style>\n",
       "<table border=\"1\" class=\"dataframe\">\n",
       "  <thead>\n",
       "    <tr style=\"text-align: right;\">\n",
       "      <th></th>\n",
       "      <th>date</th>\n",
       "      <th>open</th>\n",
       "      <th>high</th>\n",
       "      <th>low</th>\n",
       "      <th>close</th>\n",
       "    </tr>\n",
       "  </thead>\n",
       "  <tbody>\n",
       "    <tr>\n",
       "      <th>1555</th>\n",
       "      <td>2013-04-28</td>\n",
       "      <td>135.30</td>\n",
       "      <td>135.98</td>\n",
       "      <td>132.10</td>\n",
       "      <td>134.21</td>\n",
       "    </tr>\n",
       "    <tr>\n",
       "      <th>1554</th>\n",
       "      <td>2013-04-29</td>\n",
       "      <td>134.44</td>\n",
       "      <td>147.49</td>\n",
       "      <td>134.00</td>\n",
       "      <td>144.54</td>\n",
       "    </tr>\n",
       "    <tr>\n",
       "      <th>1553</th>\n",
       "      <td>2013-04-30</td>\n",
       "      <td>144.00</td>\n",
       "      <td>146.93</td>\n",
       "      <td>134.05</td>\n",
       "      <td>139.00</td>\n",
       "    </tr>\n",
       "    <tr>\n",
       "      <th>1552</th>\n",
       "      <td>2013-05-01</td>\n",
       "      <td>139.00</td>\n",
       "      <td>139.89</td>\n",
       "      <td>107.72</td>\n",
       "      <td>116.99</td>\n",
       "    </tr>\n",
       "    <tr>\n",
       "      <th>1551</th>\n",
       "      <td>2013-05-02</td>\n",
       "      <td>116.38</td>\n",
       "      <td>125.60</td>\n",
       "      <td>92.28</td>\n",
       "      <td>105.21</td>\n",
       "    </tr>\n",
       "  </tbody>\n",
       "</table>\n",
       "</div>"
      ],
      "text/plain": [
       "           date    open    high     low   close\n",
       "1555 2013-04-28  135.30  135.98  132.10  134.21\n",
       "1554 2013-04-29  134.44  147.49  134.00  144.54\n",
       "1553 2013-04-30  144.00  146.93  134.05  139.00\n",
       "1552 2013-05-01  139.00  139.89  107.72  116.99\n",
       "1551 2013-05-02  116.38  125.60   92.28  105.21"
      ]
     },
     "execution_count": 5,
     "metadata": {},
     "output_type": "execute_result"
    }
   ],
   "source": [
    "candlestick_data = df[['date', 'open', 'high', 'low', 'close']]\n",
    "candlestick_data.sort_values('date', inplace=True)\n",
    "candlestick_data.head()\n"
   ]
  },
  {
   "cell_type": "markdown",
   "id": "82e7df31-388c-42df-99ca-25cdb3072598",
   "metadata": {},
   "source": [
    "# 3.Analysing closing price in depth"
   ]
  },
  {
   "cell_type": "code",
   "execution_count": 6,
   "id": "585e7358-7a77-44cf-bce5-cd6d998cf91b",
   "metadata": {},
   "outputs": [
    {
     "data": {
      "text/plain": [
       "{'Min Closing Price': np.float64(68.43),\n",
       " 'Max Closing Price': np.float64(2958.11),\n",
       " 'Mean Closing Price': np.float64(584.2393958868895),\n",
       " 'Median Closing Price': np.float64(438.855),\n",
       " 'Standard Deviation': np.float64(525.9044423181118),\n",
       " 'Closing Price Range': np.float64(2889.6800000000003)}"
      ]
     },
     "execution_count": 6,
     "metadata": {},
     "output_type": "execute_result"
    }
   ],
   "source": [
    "closing_stats = {\n",
    "    'Min Closing Price': df['close'].min(),\n",
    "    'Max Closing Price': df['close'].max(),\n",
    "    'Mean Closing Price': df['close'].mean(),\n",
    "    'Median Closing Price': df['close'].median(),\n",
    "    'Standard Deviation': df['close'].std(),\n",
    "    'Closing Price Range': df['close'].max() - df['close'].min()\n",
    "}\n",
    "closing_stats\n"
   ]
  },
  {
   "cell_type": "markdown",
   "id": "7609620b-d893-436e-910c-bdf76c1f5386",
   "metadata": {},
   "source": [
    "# 4.Perform analysis on closing price on yearly quarterly and monthly basis"
   ]
  },
  {
   "cell_type": "code",
   "execution_count": 7,
   "id": "0196ce19-278e-45b0-9705-d575c42a479d",
   "metadata": {},
   "outputs": [
    {
     "data": {
      "text/plain": [
       "(   year  avg_close_price\n",
       " 0  2013       257.474476\n",
       " 1  2014       527.236658\n",
       " 2  2015       272.453260\n",
       " 3  2016       568.492131\n",
       " 4  2017      1628.622123,\n",
       "   quarter  avg_close_price\n",
       " 0  2013Q2       115.162188\n",
       " 1  2013Q3       111.291196\n",
       " 2  2013Q4       502.657609\n",
       " 3  2014Q1       700.586000\n",
       " 4  2014Q2       520.929341,\n",
       "      month  avg_close_price\n",
       " 0  2013-04       139.250000\n",
       " 1  2013-05       119.993226\n",
       " 2  2013-06       107.761333\n",
       " 3  2013-07        90.512258\n",
       " 4  2013-08       113.905161)"
      ]
     },
     "execution_count": 7,
     "metadata": {},
     "output_type": "execute_result"
    }
   ],
   "source": [
    "df['year'] = df['date'].dt.year\n",
    "df['quarter'] = df['date'].dt.to_period('Q')\n",
    "df['month'] = df['date'].dt.to_period('M')\n",
    "\n",
    "yearly = df.groupby('year')['close'].mean().reset_index(name='avg_close_price')\n",
    "quarterly = df.groupby('quarter')['close'].mean().reset_index(name='avg_close_price')\n",
    "monthly = df.groupby('month')['close'].mean().reset_index(name='avg_close_price')\n",
    "\n",
    "yearly.head(), quarterly.head(), monthly.head()\n"
   ]
  },
  {
   "cell_type": "markdown",
   "id": "a4ec4f7b-2267-46bb-adc6-7639419a7338",
   "metadata": {},
   "source": [
    "# 5.Analysing daily change in price of stocks"
   ]
  },
  {
   "cell_type": "code",
   "execution_count": 8,
   "id": "e8722d99-c349-4d7d-9bef-ab26eedf4907",
   "metadata": {},
   "outputs": [
    {
     "data": {
      "text/html": [
       "<div>\n",
       "<style scoped>\n",
       "    .dataframe tbody tr th:only-of-type {\n",
       "        vertical-align: middle;\n",
       "    }\n",
       "\n",
       "    .dataframe tbody tr th {\n",
       "        vertical-align: top;\n",
       "    }\n",
       "\n",
       "    .dataframe thead th {\n",
       "        text-align: right;\n",
       "    }\n",
       "</style>\n",
       "<table border=\"1\" class=\"dataframe\">\n",
       "  <thead>\n",
       "    <tr style=\"text-align: right;\">\n",
       "      <th></th>\n",
       "      <th>date</th>\n",
       "      <th>close</th>\n",
       "      <th>daily_change</th>\n",
       "      <th>daily_change_%</th>\n",
       "    </tr>\n",
       "  </thead>\n",
       "  <tbody>\n",
       "    <tr>\n",
       "      <th>0</th>\n",
       "      <td>2017-07-31</td>\n",
       "      <td>2875.34</td>\n",
       "      <td>NaN</td>\n",
       "      <td>NaN</td>\n",
       "    </tr>\n",
       "    <tr>\n",
       "      <th>1</th>\n",
       "      <td>2017-07-30</td>\n",
       "      <td>2757.18</td>\n",
       "      <td>-118.16</td>\n",
       "      <td>-4.109427</td>\n",
       "    </tr>\n",
       "    <tr>\n",
       "      <th>2</th>\n",
       "      <td>2017-07-29</td>\n",
       "      <td>2726.45</td>\n",
       "      <td>-30.73</td>\n",
       "      <td>-1.114545</td>\n",
       "    </tr>\n",
       "    <tr>\n",
       "      <th>3</th>\n",
       "      <td>2017-07-28</td>\n",
       "      <td>2809.01</td>\n",
       "      <td>82.56</td>\n",
       "      <td>3.028113</td>\n",
       "    </tr>\n",
       "    <tr>\n",
       "      <th>4</th>\n",
       "      <td>2017-07-27</td>\n",
       "      <td>2671.78</td>\n",
       "      <td>-137.23</td>\n",
       "      <td>-4.885351</td>\n",
       "    </tr>\n",
       "  </tbody>\n",
       "</table>\n",
       "</div>"
      ],
      "text/plain": [
       "        date    close  daily_change  daily_change_%\n",
       "0 2017-07-31  2875.34           NaN             NaN\n",
       "1 2017-07-30  2757.18       -118.16       -4.109427\n",
       "2 2017-07-29  2726.45        -30.73       -1.114545\n",
       "3 2017-07-28  2809.01         82.56        3.028113\n",
       "4 2017-07-27  2671.78       -137.23       -4.885351"
      ]
     },
     "execution_count": 8,
     "metadata": {},
     "output_type": "execute_result"
    }
   ],
   "source": [
    "df['daily_change'] = df['close'].diff()\n",
    "df['daily_change_%'] = df['close'].pct_change() * 100\n",
    "df[['date', 'close', 'daily_change', 'daily_change_%']].head()\n"
   ]
  },
  {
   "cell_type": "code",
   "execution_count": null,
   "id": "85d45c1a-e6f3-4bd2-b745-9b9149b55fa4",
   "metadata": {},
   "outputs": [],
   "source": []
  }
 ],
 "metadata": {
  "kernelspec": {
   "display_name": "Python 3 (ipykernel)",
   "language": "python",
   "name": "python3"
  },
  "language_info": {
   "codemirror_mode": {
    "name": "ipython",
    "version": 3
   },
   "file_extension": ".py",
   "mimetype": "text/x-python",
   "name": "python",
   "nbconvert_exporter": "python",
   "pygments_lexer": "ipython3",
   "version": "3.13.0"
  }
 },
 "nbformat": 4,
 "nbformat_minor": 5
}
