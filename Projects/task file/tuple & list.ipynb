{
 "cells": [
  {
   "cell_type": "markdown",
   "id": "c33e0fa4-15ea-4e6e-81e1-0f73ead7b5c2",
   "metadata": {},
   "source": [
    "# Problem 1  \n",
    "**You have a nested tuple `nested_tuple = ((1, 2, 3), (4, 5, 6), (7, 8, 9))`. Slice the second tuple (at index 1) and then extract the element at index 2 from it.**  \n"
   ]
  },
  {
   "cell_type": "code",
   "execution_count": 2,
   "id": "0c4073af-74a0-4a49-896a-10970083ec39",
   "metadata": {},
   "outputs": [
    {
     "name": "stdout",
     "output_type": "stream",
     "text": [
      "3\n"
     ]
    }
   ],
   "source": [
    "nested_list = [[\"a\", \"b\", \"c\"], [1, 2, 3], [\"x\", \"y\", \"z\"]]  \n",
    "result = nested_list[1][2]  \n",
    "print(result) "
   ]
  },
  {
   "cell_type": "markdown",
   "id": "49616496-1e6a-4a82-a5cf-3b058bd0a529",
   "metadata": {},
   "source": [
    "# Problem 2  \n",
    "**You have a nested list `nested_list = [[\"a\", \"b\", \"c\"], [1, 2, 3], [\"x\", \"y\", \"z\"]]`. Slice the second list (at index 1) and extract the element at index 2.**  \n"
   ]
  },
  {
   "cell_type": "code",
   "execution_count": 3,
   "id": "ed724e75-3d4d-440f-a9ba-dce81af57039",
   "metadata": {},
   "outputs": [
    {
     "name": "stdout",
     "output_type": "stream",
     "text": [
      "3\n"
     ]
    }
   ],
   "source": [
    "nested_list = [[\"a\", \"b\", \"c\"], [1, 2, 3], [\"x\", \"y\", \"z\"]]  \n",
    "result = nested_list[1][2]  \n",
    "print(result)  \n"
   ]
  },
  {
   "cell_type": "markdown",
   "id": "0795c51c-e974-496c-97ea-8f1a8874b5bf",
   "metadata": {},
   "source": [
    "# Problem 3  \n",
    "**You have a list `numbers = [10, 20, 30, 40, 50]`. Slice the last three elements using negative indices.**  \n"
   ]
  },
  {
   "cell_type": "code",
   "execution_count": 4,
   "id": "ea5b8cc8-c703-4f6d-b777-9cd988bd50cc",
   "metadata": {},
   "outputs": [
    {
     "name": "stdout",
     "output_type": "stream",
     "text": [
      "[30, 40, 50]\n"
     ]
    }
   ],
   "source": [
    "numbers = [10, 20, 30, 40, 50]  \n",
    "result = numbers[-3:]  \n",
    "print(result)  \n"
   ]
  },
  {
   "cell_type": "markdown",
   "id": "703a2820-d141-4fca-9663-1eb79ac71af9",
   "metadata": {},
   "source": [
    "# Problem 4  \n",
    "**You have a list `numbers = [10, 20, 30, 40, 50, 60]`. Slice the list to extract every second element starting from index 1 and ending at index 5.**  \n"
   ]
  },
  {
   "cell_type": "code",
   "execution_count": 5,
   "id": "e2ce3757-71cb-41a6-aeff-8af8d193ae90",
   "metadata": {},
   "outputs": [
    {
     "name": "stdout",
     "output_type": "stream",
     "text": [
      "[20, 40, 60]\n"
     ]
    }
   ],
   "source": [
    "numbers = [10, 20, 30, 40, 50, 60]  \n",
    "result = numbers[1:6:2]  \n",
    "print(result)  \n"
   ]
  },
  {
   "cell_type": "markdown",
   "id": "98bd2758-aab8-451b-aa0e-60a349e58684",
   "metadata": {},
   "source": [
    "# Problem 5  \n",
    "**You have a list `fruits = [\"apple\", \"banana\", \"cherry\"]`. Add \"orange\" to the list using the `append()` method.**  \n"
   ]
  },
  {
   "cell_type": "code",
   "execution_count": 7,
   "id": "04bafa85-582d-4bd9-aae1-1eb2712af43e",
   "metadata": {},
   "outputs": [
    {
     "name": "stdout",
     "output_type": "stream",
     "text": [
      "['apple', 'banana', 'cherry', 'orange']\n"
     ]
    }
   ],
   "source": [
    "fruits = [\"apple\", \"banana\", \"cherry\"]  \n",
    "fruits.append(\"orange\")  \n",
    "print(fruits)  \n"
   ]
  },
  {
   "cell_type": "markdown",
   "id": "968aa7ea-1fcb-4375-b201-6521f5fe53dc",
   "metadata": {},
   "source": [
    "# Problem 6  \n",
    "**You have a list `fruits = [\"apple\", \"banana\", \"cherry\", \"orange\"]`. Remove \"banana\" from the list using the `remove()` method.**  \n"
   ]
  },
  {
   "cell_type": "code",
   "execution_count": 9,
   "id": "8b98b6b8-9db7-49c6-89bb-cbef0eb4c105",
   "metadata": {},
   "outputs": [
    {
     "name": "stdout",
     "output_type": "stream",
     "text": [
      "['apple', 'cherry', 'orange']\n"
     ]
    }
   ],
   "source": [
    "fruits = [\"apple\", \"banana\", \"cherry\", \"orange\"]  \n",
    "fruits.remove(\"banana\")  \n",
    "print(fruits)  \n"
   ]
  },
  {
   "cell_type": "code",
   "execution_count": null,
   "id": "852a56f1-0785-4efd-bb1d-29bca8aef417",
   "metadata": {},
   "outputs": [],
   "source": []
  }
 ],
 "metadata": {
  "kernelspec": {
   "display_name": "Python 3 (ipykernel)",
   "language": "python",
   "name": "python3"
  },
  "language_info": {
   "codemirror_mode": {
    "name": "ipython",
    "version": 3
   },
   "file_extension": ".py",
   "mimetype": "text/x-python",
   "name": "python",
   "nbconvert_exporter": "python",
   "pygments_lexer": "ipython3",
   "version": "3.13.0"
  }
 },
 "nbformat": 4,
 "nbformat_minor": 5
}
