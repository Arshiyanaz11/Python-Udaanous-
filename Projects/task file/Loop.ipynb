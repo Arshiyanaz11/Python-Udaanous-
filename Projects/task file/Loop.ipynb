{
 "cells": [
  {
   "cell_type": "markdown",
   "id": "6a35fa33-b9c2-49f1-b668-0019998d599d",
   "metadata": {},
   "source": [
    "#### Problem 1: \n",
    "\n",
    "**Write a program to iterate through a list of names and print each name along with a message saying \"Welcome to the team!\". The list of names is given as:**\n",
    "\n",
    "[\"Alice\", \"Bob\", \"Charlie\", \"Diana\"]."
   ]
  },
  {
   "cell_type": "code",
   "execution_count": 1,
   "id": "1a0867bb-67ca-42c7-8a86-b9dc83df5f51",
   "metadata": {},
   "outputs": [
    {
     "name": "stdout",
     "output_type": "stream",
     "text": [
      "Alice, Welcome to the team!\n",
      "Bob, Welcome to the team!\n",
      "Charlie, Welcome to the team!\n",
      "Diana, Welcome to the team!\n"
     ]
    }
   ],
   "source": [
    "names = [\"Alice\", \"Bob\", \"Charlie\", \"Diana\"]\n",
    "for name in names:\n",
    "    print(f\"{name}, Welcome to the team!\")\n"
   ]
  },
  {
   "cell_type": "markdown",
   "id": "beb278cf-ebd1-4836-b45f-2e39142ec316",
   "metadata": {},
   "source": [
    "#### Problem 2: \n",
    "\n",
    "**Write a program to iterate through a list of tasks and print each task with its corresponding index number, starting from 1. The list of tasks is:**\n",
    "\n",
    "[\"Wash the dishes\", \"Clean the room\", \"Do the laundry\", \"Prepare dinner\"]."
   ]
  },
  {
   "cell_type": "code",
   "execution_count": 2,
   "id": "afc11cc7-f367-4ee9-aa16-44919d1209a1",
   "metadata": {},
   "outputs": [
    {
     "name": "stdout",
     "output_type": "stream",
     "text": [
      "1. Wash the dishes\n",
      "2. Clean the room\n",
      "3. Do the laundry\n",
      "4. Prepare dinner\n"
     ]
    }
   ],
   "source": [
    "tasks = [\"Wash the dishes\", \"Clean the room\", \"Do the laundry\", \"Prepare dinner\"]\n",
    "for index, task in enumerate(tasks, start=1):\n",
    "    print(f\"{index}. {task}\")\n"
   ]
  },
  {
   "cell_type": "markdown",
   "id": "915e0a87-1fa5-4119-a171-723b9ece1027",
   "metadata": {},
   "source": [
    "#### Problem 3:\n",
    "\n",
    "Write a program to create a list of even numbers between 2 and 10 (inclusive) using a while-loop. Start with an empty list and append each even number to the list during each iteration."
   ]
  },
  {
   "cell_type": "code",
   "execution_count": 3,
   "id": "22f13653-6677-4315-b6b4-58b384522f00",
   "metadata": {},
   "outputs": [
    {
     "name": "stdout",
     "output_type": "stream",
     "text": [
      "Even numbers: [2, 4, 6, 8, 10]\n"
     ]
    }
   ],
   "source": [
    "even_numbers = []\n",
    "num = 2\n",
    "while num <= 10:\n",
    "    even_numbers.append(num)\n",
    "    num += 2\n",
    "print(\"Even numbers:\", even_numbers)\n"
   ]
  },
  {
   "cell_type": "markdown",
   "id": "494b1f20-0e7a-4a5e-acf8-9092e2ba5561",
   "metadata": {},
   "source": [
    "#### Problem 4:\n",
    "\n",
    "**Write a program to classify a list of numbers into positive, negative, or zero. Use a for-loop to iterate through the numbers and check each one using if, elif, and else conditions.**\n",
    "\n",
    "The list of numbers is: [10, -5, 0, 23, -7, 0, 15, -3]."
   ]
  },
  {
   "cell_type": "code",
   "execution_count": 4,
   "id": "f60d8f80-06c6-4877-b9e5-608601e97a6a",
   "metadata": {},
   "outputs": [
    {
     "name": "stdout",
     "output_type": "stream",
     "text": [
      "10 is Positive\n",
      "-5 is Negative\n",
      "0 is Zero\n",
      "23 is Positive\n",
      "-7 is Negative\n",
      "0 is Zero\n",
      "15 is Positive\n",
      "-3 is Negative\n"
     ]
    }
   ],
   "source": [
    "numbers = [10, -5, 0, 23, -7, 0, 15, -3]\n",
    "for num in numbers:\n",
    "    if num > 0:\n",
    "        print(f\"{num} is Positive\")\n",
    "    elif num < 0:\n",
    "        print(f\"{num} is Negative\")\n",
    "    else:\n",
    "        print(f\"{num} is Zero\")\n"
   ]
  },
  {
   "cell_type": "code",
   "execution_count": null,
   "id": "3fa61f29",
   "metadata": {},
   "outputs": [],
   "source": []
  }
 ],
 "metadata": {
  "kernelspec": {
   "display_name": "Python 3",
   "language": "python",
   "name": "python3"
  },
  "language_info": {
   "codemirror_mode": {
    "name": "ipython",
    "version": 3
   },
   "file_extension": ".py",
   "mimetype": "text/x-python",
   "name": "python",
   "nbconvert_exporter": "python",
   "pygments_lexer": "ipython3",
   "version": "3.13.0"
  }
 },
 "nbformat": 4,
 "nbformat_minor": 5
}
