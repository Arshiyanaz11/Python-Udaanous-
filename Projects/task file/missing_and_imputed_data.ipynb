{
 "cells": [
  {
   "cell_type": "code",
   "execution_count": 1,
   "id": "a071c6c1-8018-4c5c-acf2-d5c481c4cf52",
   "metadata": {},
   "outputs": [],
   "source": [
    "import pandas as pd\n",
    "import numpy as nd"
   ]
  },
  {
   "cell_type": "code",
   "execution_count": 2,
   "id": "683220cd-2bcc-4df2-b706-d756ab820bde",
   "metadata": {},
   "outputs": [],
   "source": [
    "performance_path = r\"F:\\INTERNSHIP\\PYTHON\\project 2\\performance_data.xlsx\"\n",
    "customer_path = r\"F:\\INTERNSHIP\\PYTHON\\project 2\\customer_data.xlsx\"\n",
    "additional_path = r\"F:\\INTERNSHIP\\PYTHON\\project 2\\additional_data.xlsx\"\n"
   ]
  },
  {
   "cell_type": "code",
   "execution_count": 3,
   "id": "a4a202aa-fcb2-443c-9c7d-1987bdfa183b",
   "metadata": {},
   "outputs": [],
   "source": [
    "performance_data = pd.read_excel(performance_path)\n",
    "customer_data = pd.read_excel(customer_path)\n",
    "additional_data = pd.read_excel(additional_path)"
   ]
  },
  {
   "cell_type": "markdown",
   "id": "decf788f-dfe9-4079-a71d-7065d6e697fe",
   "metadata": {},
   "source": [
    "# Identify Missing Values\n"
   ]
  },
  {
   "cell_type": "code",
   "execution_count": 4,
   "id": "e448ef04-eeff-4830-8aa7-be0372803c96",
   "metadata": {},
   "outputs": [
    {
     "name": "stdout",
     "output_type": "stream",
     "text": [
      "🔹 Missing values in Performance Data:\n",
      " CustomerID         0\n",
      "Recency            0\n",
      "Frequency_Score    0\n",
      "Monetary_Score     0\n",
      "dtype: int64\n",
      "\n",
      "🔹 Missing values in Customer Data:\n",
      " CustomerID                  0\n",
      "Gender                      0\n",
      "Age                         0\n",
      "Income                      5\n",
      "City                        3\n",
      "Region                      0\n",
      "Frequency_of_Purchases      0\n",
      "Average_Purchase_Amount     0\n",
      "Customer_Lifespan_Months    0\n",
      "Purchase_Channel            0\n",
      "Date_of_Purchase            0\n",
      "Churn_Status                0\n",
      "dtype: int64\n",
      "\n",
      "🔹 Missing values in Additional Data:\n",
      " CustomerID                  0\n",
      "Gender                      0\n",
      "Age                         0\n",
      "Income                      0\n",
      "City                        0\n",
      "Region                      0\n",
      "Frequency_of_Purchases      0\n",
      "Average_Purchase_Amount     0\n",
      "Customer_Lifespan_Months    0\n",
      "Purchase_Channel            0\n",
      "Date_of_Purchase            0\n",
      "Churn_Status                0\n",
      "CustomerID.1                0\n",
      "Recency                     0\n",
      "Frequency_Score             0\n",
      "Monetary_Score              0\n",
      "dtype: int64\n"
     ]
    }
   ],
   "source": [
    "# Check missing values in each dataset\n",
    "print(\"🔹 Missing values in Performance Data:\\n\", performance_data.isnull().sum())\n",
    "print(\"\\n🔹 Missing values in Customer Data:\\n\", customer_data.isnull().sum())\n",
    "print(\"\\n🔹 Missing values in Additional Data:\\n\", additional_data.isnull().sum())\n"
   ]
  },
  {
   "cell_type": "code",
   "execution_count": 5,
   "id": "ad5f6773-f00f-475c-a6e7-30aa535376a1",
   "metadata": {},
   "outputs": [],
   "source": [
    "from sklearn.impute import SimpleImputer\n"
   ]
  },
  {
   "cell_type": "markdown",
   "id": "9f15b821-6d59-49b3-803d-90a6eee8e9b3",
   "metadata": {},
   "source": [
    "# imputers for missing values\n"
   ]
  },
  {
   "cell_type": "code",
   "execution_count": 7,
   "id": "3bda8399-8dbc-433e-8c40-721f322e6124",
   "metadata": {},
   "outputs": [],
   "source": [
    "numeric_imputer = SimpleImputer(strategy='mean')  #numerical columns\n",
    "categorical_imputer = SimpleImputer(strategy='most_frequent')  #categorical colums\n"
   ]
  },
  {
   "cell_type": "markdown",
   "id": "8f5ecadf-5a6f-4f08-a044-ee876f4f5064",
   "metadata": {},
   "source": [
    "# Handle Missing Values in Numeric Columns"
   ]
  },
  {
   "cell_type": "markdown",
   "id": "7548c67e-d4ca-40ad-80a9-74a817bd6a08",
   "metadata": {},
   "source": [
    "## Identify numeric columns in each dataset\n"
   ]
  },
  {
   "cell_type": "code",
   "execution_count": 9,
   "id": "7c400ad9-7ff9-40f1-a81b-ca52bbe3b120",
   "metadata": {},
   "outputs": [],
   "source": [
    "numeric_cols_perf = performance_data.select_dtypes(include=['number']).columns\n",
    "numeric_cols_cust = customer_data.select_dtypes(include=['number']).columns\n",
    "numeric_cols_add = additional_data.select_dtypes(include=['number']).columns\n"
   ]
  },
  {
   "cell_type": "markdown",
   "id": "3368e020-ac15-4ac6-b677-52189b474850",
   "metadata": {},
   "source": [
    "#  imputation for numeric columns\n"
   ]
  },
  {
   "cell_type": "code",
   "execution_count": 10,
   "id": "ced38e4d-1533-4dc4-9a18-f616fb14c143",
   "metadata": {},
   "outputs": [],
   "source": [
    "\n",
    "performance_data[numeric_cols_perf] = numeric_imputer.fit_transform(performance_data[numeric_cols_perf])\n",
    "customer_data[numeric_cols_cust] = numeric_imputer.fit_transform(customer_data[numeric_cols_cust])\n",
    "additional_data[numeric_cols_add] = numeric_imputer.fit_transform(additional_data[numeric_cols_add])\n"
   ]
  },
  {
   "cell_type": "code",
   "execution_count": 11,
   "id": "01eda4f6-b8b3-4ed5-a01f-dac481d25781",
   "metadata": {},
   "outputs": [],
   "source": [
    "# Identify categorical columns in each dataset\n",
    "cat_cols_perf = performance_data.select_dtypes(include=['object']).columns\n",
    "cat_cols_cust = customer_data.select_dtypes(include=['object']).columns\n",
    "cat_cols_add = additional_data.select_dtypes(include=['object']).columns\n",
    "\n",
    "# Apply imputation for categorical columns\n",
    "performance_data[cat_cols_perf] = categorical_imputer.fit_transform(performance_data[cat_cols_perf])\n",
    "customer_data[cat_cols_cust] = categorical_imputer.fit_transform(customer_data[cat_cols_cust])\n",
    "additional_data[cat_cols_add] = categorical_imputer.fit_transform(additional_data[cat_cols_add])\n"
   ]
  },
  {
   "cell_type": "code",
   "execution_count": 12,
   "id": "7cd57953-21bc-4fde-ac1e-81a82a7323fa",
   "metadata": {},
   "outputs": [
    {
     "name": "stdout",
     "output_type": "stream",
     "text": [
      "🔹 Missing values AFTER imputation in Performance Data:\n",
      " CustomerID         0\n",
      "Recency            0\n",
      "Frequency_Score    0\n",
      "Monetary_Score     0\n",
      "dtype: int64\n",
      "\n",
      "🔹 Missing values AFTER imputation in Customer Data:\n",
      " CustomerID                  0\n",
      "Gender                      0\n",
      "Age                         0\n",
      "Income                      0\n",
      "City                        0\n",
      "Region                      0\n",
      "Frequency_of_Purchases      0\n",
      "Average_Purchase_Amount     0\n",
      "Customer_Lifespan_Months    0\n",
      "Purchase_Channel            0\n",
      "Date_of_Purchase            0\n",
      "Churn_Status                0\n",
      "dtype: int64\n",
      "\n",
      "🔹 Missing values AFTER imputation in Additional Data:\n",
      " CustomerID                  0\n",
      "Gender                      0\n",
      "Age                         0\n",
      "Income                      0\n",
      "City                        0\n",
      "Region                      0\n",
      "Frequency_of_Purchases      0\n",
      "Average_Purchase_Amount     0\n",
      "Customer_Lifespan_Months    0\n",
      "Purchase_Channel            0\n",
      "Date_of_Purchase            0\n",
      "Churn_Status                0\n",
      "CustomerID.1                0\n",
      "Recency                     0\n",
      "Frequency_Score             0\n",
      "Monetary_Score              0\n",
      "dtype: int64\n"
     ]
    }
   ],
   "source": [
    "# Check missing values again to confirm imputation worked\n",
    "print(\"🔹 Missing values AFTER imputation in Performance Data:\\n\", performance_data.isnull().sum())\n",
    "print(\"\\n🔹 Missing values AFTER imputation in Customer Data:\\n\", customer_data.isnull().sum())\n",
    "print(\"\\n🔹 Missing values AFTER imputation in Additional Data:\\n\", additional_data.isnull().sum())\n"
   ]
  },
  {
   "cell_type": "code",
   "execution_count": null,
   "id": "ef9819f6-a45e-4021-9915-d694a38f33dd",
   "metadata": {},
   "outputs": [],
   "source": []
  }
 ],
 "metadata": {
  "kernelspec": {
   "display_name": "Python 3 (ipykernel)",
   "language": "python",
   "name": "python3"
  },
  "language_info": {
   "codemirror_mode": {
    "name": "ipython",
    "version": 3
   },
   "file_extension": ".py",
   "mimetype": "text/x-python",
   "name": "python",
   "nbconvert_exporter": "python",
   "pygments_lexer": "ipython3",
   "version": "3.13.0"
  }
 },
 "nbformat": 4,
 "nbformat_minor": 5
}
