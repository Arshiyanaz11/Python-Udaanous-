{
 "cells": [
  {
   "cell_type": "markdown",
   "id": "06fab888-df2f-4e0c-b751-d95e28c7bdbd",
   "metadata": {},
   "source": [
    "# Problem 1  \n",
    "**Convert a list into a set to remove duplicates.**  \n",
    "Given a list `numbers = [10, 15, 20, 25, 15, 30, 20, 40]`, convert it into a set to remove duplicate values.\n"
   ]
  },
  {
   "cell_type": "code",
   "execution_count": 2,
   "id": "53418221-ba38-48e7-95b9-14b571faee87",
   "metadata": {},
   "outputs": [
    {
     "name": "stdout",
     "output_type": "stream",
     "text": [
      "{40, 10, 15, 20, 25, 30}\n"
     ]
    }
   ],
   "source": [
    "numbers = [10, 15, 20, 25, 15, 30, 20, 40]  \n",
    "unique_numbers = set(numbers)  \n",
    "print(unique_numbers)  # Output: {10, 15, 20, 25, 30, 40}  \n"
   ]
  },
  {
   "cell_type": "markdown",
   "id": "98b4002b-a474-4a4e-b020-91e49430d7d3",
   "metadata": {},
   "source": [
    "# Problem 2  \n",
    "**Add an element to a set.**  \n",
    "Given a set `my_set = {5, 10, 15, 20}`, add the element `25` to the set.\n"
   ]
  },
  {
   "cell_type": "code",
   "execution_count": 3,
   "id": "e09f1d99-754f-46b2-9189-0c56f276dca7",
   "metadata": {},
   "outputs": [
    {
     "name": "stdout",
     "output_type": "stream",
     "text": [
      "{5, 10, 15, 20, 25}\n"
     ]
    }
   ],
   "source": [
    "my_set = {5, 10, 15, 20}  \n",
    "my_set.add(25)  \n",
    "print(my_set)  # Output: {5, 10, 15, 20, 25}  \n"
   ]
  },
  {
   "cell_type": "markdown",
   "id": "67e7fcb0-2ae9-4dbd-94bc-ff1be347d7b0",
   "metadata": {},
   "source": [
    "# Problem 3  \n",
    "**Remove an element from a set.**  \n",
    "Given a set `my_set = {50, 60, 70, 80, 90}`, remove the element `70` from the set.\n"
   ]
  },
  {
   "cell_type": "code",
   "execution_count": 5,
   "id": "6c9973ac-4b0a-4804-b4f1-835ecf3da705",
   "metadata": {},
   "outputs": [
    {
     "name": "stdout",
     "output_type": "stream",
     "text": [
      "{80, 50, 90, 60}\n"
     ]
    }
   ],
   "source": [
    "my_set = {50, 60, 70, 80, 90}  \n",
    "my_set.remove(70)  \n",
    "print(my_set)  # Output: {50, 60, 80, 90}  \n"
   ]
  },
  {
   "cell_type": "markdown",
   "id": "24c6e0f0-76ae-4583-9fad-fe61c5d3379c",
   "metadata": {},
   "source": [
    "# Problem 4  \n",
    "**Find the union of two sets (combine all unique elements).**  \n",
    "Given two sets:  \n",
    "- `set_a = {1, 2, 3, 4, 5}`  \n",
    "- `set_b = {4, 5, 6, 7, 8}`  \n",
    "Find the union of both sets.\n"
   ]
  },
  {
   "cell_type": "code",
   "execution_count": 6,
   "id": "92301a73-d6c7-41b0-8111-ad61881f9911",
   "metadata": {},
   "outputs": [
    {
     "name": "stdout",
     "output_type": "stream",
     "text": [
      "{1, 2, 3, 4, 5, 6, 7, 8}\n"
     ]
    }
   ],
   "source": [
    "set_a = {1, 2, 3, 4, 5}  \n",
    "set_b = {4, 5, 6, 7, 8}  \n",
    "union_set = set_a.union(set_b)  \n",
    "print(union_set)  # Output: {1, 2, 3, 4, 5, 6, 7, 8}  \n"
   ]
  },
  {
   "cell_type": "markdown",
   "id": "5a044dc7-b646-4760-8eb8-7a196d5da456",
   "metadata": {},
   "source": [
    "# Problem 5  \n",
    "**Find the intersection of two sets (common elements).**  \n",
    "Given two sets:  \n",
    "- `set_a = {10, 20, 30, 40, 50}`  \n",
    "- `set_b = {30, 40, 50, 60, 70}`  \n",
    "Find the intersection of both sets.\n"
   ]
  },
  {
   "cell_type": "code",
   "execution_count": 7,
   "id": "862ae3e0-ce07-4cf8-823f-2491516648c2",
   "metadata": {},
   "outputs": [
    {
     "name": "stdout",
     "output_type": "stream",
     "text": [
      "{40, 50, 30}\n"
     ]
    }
   ],
   "source": [
    "set_a = {10, 20, 30, 40, 50}  \n",
    "set_b = {30, 40, 50, 60, 70}  \n",
    "intersection_set = set_a.intersection(set_b)  \n",
    "print(intersection_set)  # Output: {30, 40, 50}  \n"
   ]
  },
  {
   "cell_type": "code",
   "execution_count": null,
   "id": "cfda6600-0ba6-44d9-a36a-9e49794bf654",
   "metadata": {},
   "outputs": [],
   "source": []
  }
 ],
 "metadata": {
  "kernelspec": {
   "display_name": "Python 3 (ipykernel)",
   "language": "python",
   "name": "python3"
  },
  "language_info": {
   "codemirror_mode": {
    "name": "ipython",
    "version": 3
   },
   "file_extension": ".py",
   "mimetype": "text/x-python",
   "name": "python",
   "nbconvert_exporter": "python",
   "pygments_lexer": "ipython3",
   "version": "3.13.0"
  }
 },
 "nbformat": 4,
 "nbformat_minor": 5
}
