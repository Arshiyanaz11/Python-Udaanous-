{
 "cells": [
  {
   "cell_type": "markdown",
   "id": "f5a28c19-91f6-4bee-8509-4d343c02e6b6",
   "metadata": {},
   "source": [
    "# PROBLEM 1"
   ]
  },
  {
   "cell_type": "code",
   "execution_count": 1,
   "id": "72b6aec3-a52a-4bbe-a19a-6aae489e4d91",
   "metadata": {},
   "outputs": [
    {
     "name": "stdin",
     "output_type": "stream",
     "text": [
      "Enter the principal amount:  10000  \n",
      "Enter the annual interest rate (as a decimal):  0.05  \n",
      "Enter the number of times interest is compounded per year:  4\n",
      "Enter the time in years:  5\n"
     ]
    },
    {
     "name": "stdout",
     "output_type": "stream",
     "text": [
      "Final amount after 5.0 years: 12820.37\n"
     ]
    }
   ],
   "source": [
    "def calculate_compound_interest(P, r, n, t):\n",
    "    return P * (1 + r/n) ** (n * t)\n",
    "\n",
    "P = float(input(\"Enter the principal amount: \"))\n",
    "r = float(input(\"Enter the annual interest rate (as a decimal): \"))\n",
    "n = int(input(\"Enter the number of times interest is compounded per year: \"))\n",
    "t = float(input(\"Enter the time in years: \"))\n",
    "\n",
    "A = calculate_compound_interest(P, r, n, t)\n",
    "print(f\"Final amount after {t} years: {A:.2f}\")\n"
   ]
  },
  {
   "cell_type": "markdown",
   "id": "47c55961-6a95-4e0f-996f-9da89413ad8e",
   "metadata": {},
   "source": [
    "# PROBLEM  2"
   ]
  },
  {
   "cell_type": "code",
   "execution_count": 3,
   "id": "46d47390-ec21-4cd3-a62a-69ebb6b7d973",
   "metadata": {},
   "outputs": [
    {
     "name": "stdin",
     "output_type": "stream",
     "text": [
      "Enter the loan principal amount:  500000  \n",
      "Enter the annual interest rate (as a percentage):  7.5  \n",
      "Enter the total number of monthly payments:  60  \n"
     ]
    },
    {
     "name": "stdout",
     "output_type": "stream",
     "text": [
      "Equated Monthly Installment (EMI): 10018.97\n"
     ]
    }
   ],
   "source": [
    "def calculate_emi(P, r, n):\n",
    "    emi = (P * r * (1 + r) ** n) / ((1 + r) ** n - 1)\n",
    "    return emi\n",
    "\n",
    "P = float(input(\"Enter the loan principal amount: \"))\n",
    "annual_rate = float(input(\"Enter the annual interest rate (as a percentage): \"))\n",
    "n = int(input(\"Enter the total number of monthly payments: \"))\n",
    "\n",
    "r = (annual_rate / 100) / 12\n",
    "\n",
    "emi = calculate_emi(P, r, n)\n",
    "print(f\"Equated Monthly Installment (EMI): {emi:.2f}\")\n"
   ]
  },
  {
   "cell_type": "markdown",
   "id": "622bdd33-89e5-4285-a8bb-e536ee0e4203",
   "metadata": {},
   "source": [
    "# PROBLEM 3"
   ]
  },
  {
   "cell_type": "code",
   "execution_count": 4,
   "id": "ab3cc996-bb1b-4df3-9669-15f1a66883d0",
   "metadata": {},
   "outputs": [
    {
     "name": "stdin",
     "output_type": "stream",
     "text": [
      "Enter weight in kg:  53\n",
      "Enter height in meters:  1.6002\n"
     ]
    },
    {
     "name": "stdout",
     "output_type": "stream",
     "text": [
      "BMI: 20.70, Category: Normal weight\n"
     ]
    }
   ],
   "source": [
    "def calculate_bmi(weight, height):\n",
    "    bmi = weight / (height ** 2)\n",
    "    if bmi < 18.5:\n",
    "        category = \"Underweight\"\n",
    "    elif 18.5 <= bmi < 25:\n",
    "        category = \"Normal weight\"\n",
    "    elif 25 <= bmi < 30:\n",
    "        category = \"Overweight\"\n",
    "    else:\n",
    "        category = \"Obesity\"\n",
    "    return bmi, category\n",
    "\n",
    "weight = float(input(\"Enter weight in kg: \"))\n",
    "height = float(input(\"Enter height in meters: \"))\n",
    "\n",
    "bmi, category = calculate_bmi(weight, height)\n",
    "print(f\"BMI: {bmi:.2f}, Category: {category}\")\n"
   ]
  },
  {
   "cell_type": "code",
   "execution_count": null,
   "id": "e8a43cce-d948-4bcc-842d-2382db81945f",
   "metadata": {},
   "outputs": [],
   "source": []
  }
 ],
 "metadata": {
  "kernelspec": {
   "display_name": "Python 3 (ipykernel)",
   "language": "python",
   "name": "python3"
  },
  "language_info": {
   "codemirror_mode": {
    "name": "ipython",
    "version": 3
   },
   "file_extension": ".py",
   "mimetype": "text/x-python",
   "name": "python",
   "nbconvert_exporter": "python",
   "pygments_lexer": "ipython3",
   "version": "3.13.0"
  }
 },
 "nbformat": 4,
 "nbformat_minor": 5
}
