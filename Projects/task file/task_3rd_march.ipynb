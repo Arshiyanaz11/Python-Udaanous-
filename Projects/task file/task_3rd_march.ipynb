{
 "cells": [
  {
   "cell_type": "code",
   "execution_count": 10,
   "id": "4e06744b-c3da-44d2-837c-4ba395f1ebd1",
   "metadata": {},
   "outputs": [],
   "source": [
    "import pandas as pd\n"
   ]
  },
  {
   "cell_type": "code",
   "execution_count": 11,
   "id": "b66fe778-c4df-4678-a230-590162c5b87f",
   "metadata": {},
   "outputs": [],
   "source": [
    "df_customer = pd.read_excel(\"F:/INTERNSHIP/PYTHON/project 2/customer_data.xlsx\")\n",
    "df_performance = pd.read_excel(\"F:/INTERNSHIP/PYTHON/project 2/performance_data.xlsx\")\n",
    "df_additional = pd.read_excel(\"F:/INTERNSHIP/PYTHON/project 2/additional_data.xlsx\")\n"
   ]
  },
  {
   "cell_type": "markdown",
   "id": "130d91fe-d77c-4cf2-a103-a58092984a0f",
   "metadata": {},
   "source": [
    "## Checking and Assigning Data Types\n"
   ]
  },
  {
   "cell_type": "code",
   "execution_count": 12,
   "id": "57a3f41c-cd6a-46c5-bb30-b84023860fac",
   "metadata": {},
   "outputs": [
    {
     "name": "stdout",
     "output_type": "stream",
     "text": [
      "Customer Data Types:\n",
      " CustomerID                   object\n",
      "Gender                       object\n",
      "Age                           int64\n",
      "Income                      float64\n",
      "City                         object\n",
      "Region                       object\n",
      "Frequency_of_Purchases        int64\n",
      "Average_Purchase_Amount     float64\n",
      "Customer_Lifespan_Months     object\n",
      "Purchase_Channel             object\n",
      "Date_of_Purchase             object\n",
      "Churn_Status                 object\n",
      "dtype: object\n",
      "\n",
      "Performance Data Types:\n",
      " CustomerID         object\n",
      "Recency             int64\n",
      "Frequency_Score     int64\n",
      "Monetary_Score      int64\n",
      "dtype: object\n",
      "\n",
      "Additional Data Types:\n",
      " CustomerID                   object\n",
      "Gender                       object\n",
      "Age                           int64\n",
      "Income                        int64\n",
      "City                         object\n",
      "Region                       object\n",
      "Frequency_of_Purchases        int64\n",
      "Average_Purchase_Amount     float64\n",
      "Customer_Lifespan_Months      int64\n",
      "Purchase_Channel             object\n",
      "Date_of_Purchase             object\n",
      "Churn_Status                 object\n",
      "CustomerID.1                 object\n",
      "Recency                       int64\n",
      "Frequency_Score               int64\n",
      "Monetary_Score                int64\n",
      "dtype: object\n"
     ]
    }
   ],
   "source": [
    "\n",
    "print(\"Customer Data Types:\\n\", df_customer.dtypes)\n",
    "print(\"\\nPerformance Data Types:\\n\", df_performance.dtypes)\n",
    "print(\"\\nAdditional Data Types:\\n\", df_additional.dtypes)"
   ]
  },
  {
   "cell_type": "markdown",
   "id": "bf1217e7-8a5b-4303-8f3d-35a6458e7c4a",
   "metadata": {},
   "source": [
    "# Convert appropriate columns\n"
   ]
  },
  {
   "cell_type": "code",
   "execution_count": 13,
   "id": "69291efc-c2ad-4e9c-ba7e-8aa15d0bc0fa",
   "metadata": {},
   "outputs": [],
   "source": [
    "df_customer['Date_of_Purchase'] = pd.to_datetime(df_customer['Date_of_Purchase'], errors='coerce')\n",
    "df_customer['Customer_Lifespan_Months'] = pd.to_numeric(df_customer['Customer_Lifespan_Months'], errors='coerce').astype('Int64')\n"
   ]
  },
  {
   "cell_type": "markdown",
   "id": "3b3d8a89-2040-46aa-9940-d90cde6c0eb1",
   "metadata": {},
   "source": [
    " ## Removing Inconsistent Values and Duplicates\n"
   ]
  },
  {
   "cell_type": "code",
   "execution_count": 14,
   "id": "ca9360ba-f8b8-4536-8bac-e884b81d659c",
   "metadata": {},
   "outputs": [],
   "source": [
    "\n",
    "df_customer = df_customer.drop_duplicates()\n",
    "df_performance = df_performance.drop_duplicates()\n",
    "df_additional = df_additional.drop_duplicates()"
   ]
  },
  {
   "cell_type": "markdown",
   "id": "54a11eac-2a49-4899-85bb-294067cb66a5",
   "metadata": {},
   "source": [
    "# Remove duplicate column if exists\n"
   ]
  },
  {
   "cell_type": "code",
   "execution_count": 15,
   "id": "2fe69c64-6c58-40f9-89e7-6181efb7b430",
   "metadata": {},
   "outputs": [],
   "source": [
    "df_additional = df_additional.loc[:, ~df_additional.columns.duplicated()]\n"
   ]
  },
  {
   "cell_type": "markdown",
   "id": "89f6649e-8a1a-425b-8a99-b281c49f7014",
   "metadata": {},
   "source": [
    "## Sorting Data\n"
   ]
  },
  {
   "cell_type": "code",
   "execution_count": 16,
   "id": "89cea245-4f70-4897-a6e0-f1c298d3dc30",
   "metadata": {},
   "outputs": [],
   "source": [
    "\n",
    "df_customer = df_customer.sort_values(by='Age', ascending=True)\n",
    "df_performance = df_performance.sort_values(by='Monetary_Score', ascending=False)\n",
    "df_additional = df_additional.sort_values(by='CustomerID', ascending=True)\n"
   ]
  },
  {
   "cell_type": "markdown",
   "id": "5aad1876-52f5-4c44-9dff-86c0fb3ce354",
   "metadata": {},
   "source": [
    "## Boolean Filtering\n"
   ]
  },
  {
   "cell_type": "code",
   "execution_count": 23,
   "id": "60d01769-1239-4ace-91d2-c8122ed25cd1",
   "metadata": {},
   "outputs": [
    {
     "name": "stdout",
     "output_type": "stream",
     "text": [
      "\n",
      "Filtered Customer Data:\n",
      "   CustomerID  Gender  Age   Income         City   Region  \\\n",
      "61       C062  Female   17  61751.0     New York  Midwest   \n",
      "57       C058    Male   18  39995.0      Houston     West   \n",
      "50       C051  Female   19  15531.0      Houston  Midwest   \n",
      "31       C032  Female   21  55212.0  Los Angeles  Midwest   \n",
      "30       C031  Female   22  81993.0      Chicago  Midwest   \n",
      "\n",
      "    Frequency_of_Purchases  Average_Purchase_Amount  Customer_Lifespan_Months  \\\n",
      "61                       7                   78.158                         2   \n",
      "57                       7                   81.111                         2   \n",
      "50                      10                   97.782                         3   \n",
      "31                      12                  120.921                         3   \n",
      "30                      12                  121.402                         3   \n",
      "\n",
      "   Purchase_Channel Date_of_Purchase Churn_Status  \n",
      "61           Online       2023-09-09           No  \n",
      "57         In-store       2022-04-12           No  \n",
      "50         In-store       2022-09-24          Yes  \n",
      "31           Online       2023-08-05          Yes  \n",
      "30           Online       2022-08-16          Yes  \n"
     ]
    }
   ],
   "source": [
    "\n",
    "df_customer_filtered = df_customer[df_customer['Frequency_of_Purchases'] > 5]\n",
    "df_performance_filtered = df_performance[df_performance['Recency'] < 30]\n",
    "df_additional_filtered = df_additional[df_additional['Customer_Lifespan_Months'] > 12]\n",
    "print(\"\\nFiltered Customer Data:\")\n",
    "print(df_customer_filtered.head())\n"
   ]
  },
  {
   "cell_type": "markdown",
   "id": "158e3a7e-f0d6-4bbe-88f2-03fdf303368b",
   "metadata": {},
   "source": [
    "## Querying Data\n"
   ]
  },
  {
   "cell_type": "code",
   "execution_count": 24,
   "id": "9f2b4489-8792-4e04-be64-f387b2aefdc9",
   "metadata": {},
   "outputs": [
    {
     "name": "stdout",
     "output_type": "stream",
     "text": [
      "\n",
      "Query Result Performance:\n",
      "Empty DataFrame\n",
      "Columns: [CustomerID, Recency, Frequency_Score, Monetary_Score]\n",
      "Index: []\n"
     ]
    }
   ],
   "source": [
    "\n",
    "query_customer = df_customer.query(\"Region == 'North America'\")\n",
    "query_performance = df_performance.query(\"Frequency_Score > 3 and Monetary_Score > 500\")\n",
    "query_additional = df_additional.query(\"Customer_Lifespan_Months > 24\")\n",
    "print(\"\\nQuery Result Performance:\")\n",
    "print(query_performance.head())\n",
    "\n"
   ]
  },
  {
   "cell_type": "markdown",
   "id": "ca1f3271-d519-4bcf-8a89-ffdc0db533af",
   "metadata": {},
   "source": [
    "## Using `is` and `in`\n"
   ]
  },
  {
   "cell_type": "code",
   "execution_count": 19,
   "id": "5e609269-204a-4ee5-8171-51bc594d6e01",
   "metadata": {},
   "outputs": [],
   "source": [
    "\n",
    "df_customer_valid = df_customer[df_customer['Income'].notna()]\n",
    "df_performance_valid = df_performance[df_performance['Recency'].isnull()]\n",
    "df_additional_valid = df_additional[df_additional['Region'].isin(['North America', 'Europe'])]\n"
   ]
  },
  {
   "cell_type": "markdown",
   "id": "530ed550-b9c7-409b-bd42-211a2884f372",
   "metadata": {},
   "source": [
    " ## Using `loc` and `iloc`\n"
   ]
  },
  {
   "cell_type": "code",
   "execution_count": 25,
   "id": "fcf8f6b5-a883-4868-9db7-ba1f52a99f2a",
   "metadata": {},
   "outputs": [
    {
     "name": "stdout",
     "output_type": "stream",
     "text": [
      "\n",
      "LOC Result Customer:\n",
      "   CustomerID  Age     Region\n",
      "32       C033   31       West\n",
      "53       C054   31  Northeast\n",
      "64       C065   31       West\n",
      "18       C019   32       West\n",
      "54       C055   32       West\n"
     ]
    }
   ],
   "source": [
    "loc_result = df_customer.loc[df_customer['Age'] > 30, ['CustomerID', 'Age', 'Region']]\n",
    "iloc_result = df_performance.iloc[:10, [0, 1, 2]] \n",
    "print(\"\\nLOC Result Customer:\")\n",
    "print(loc_result.head())\n",
    "\n"
   ]
  },
  {
   "cell_type": "markdown",
   "id": "3fe54cb0-27b3-453f-9380-50ac4cadc292",
   "metadata": {},
   "source": [
    "## Combining Conditions\n"
   ]
  },
  {
   "cell_type": "code",
   "execution_count": 26,
   "id": "07dd6ff9-0c31-40dd-a9bc-d6e436100a50",
   "metadata": {},
   "outputs": [],
   "source": [
    "\n",
    "df_customer_combined = df_customer[(df_customer['Age'] > 30) & (df_customer['Frequency_of_Purchases'] > 5)]\n",
    "df_performance_combined = df_performance[(df_performance['Recency'] < 30) & (df_performance['Monetary_Score'] > 500)]\n",
    "df_additional_combined = df_additional[(df_additional['Customer_Lifespan_Months'] > 24) & (df_additional['Income'].notna())]\n"
   ]
  },
  {
   "cell_type": "code",
   "execution_count": null,
   "id": "5223d273-55fe-41ec-a785-870fb49a236d",
   "metadata": {},
   "outputs": [],
   "source": []
  },
  {
   "cell_type": "code",
   "execution_count": null,
   "id": "0de92eb5-708c-455a-a33b-33aaa649b2b9",
   "metadata": {},
   "outputs": [],
   "source": []
  },
  {
   "cell_type": "code",
   "execution_count": null,
   "id": "5d7523d8-11e7-40ae-a3ee-b0974d2e6077",
   "metadata": {},
   "outputs": [],
   "source": []
  },
  {
   "cell_type": "code",
   "execution_count": null,
   "id": "0f0d77e3-3c64-4712-af9f-c0ff7f32e2c8",
   "metadata": {},
   "outputs": [],
   "source": []
  }
 ],
 "metadata": {
  "kernelspec": {
   "display_name": "Python 3 (ipykernel)",
   "language": "python",
   "name": "python3"
  },
  "language_info": {
   "codemirror_mode": {
    "name": "ipython",
    "version": 3
   },
   "file_extension": ".py",
   "mimetype": "text/x-python",
   "name": "python",
   "nbconvert_exporter": "python",
   "pygments_lexer": "ipython3",
   "version": "3.13.0"
  }
 },
 "nbformat": 4,
 "nbformat_minor": 5
}
